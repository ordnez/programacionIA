{
 "cells": [
  {
   "cell_type": "markdown",
   "metadata": {},
   "source": [
    "CODIGO PYTHON\n"
   ]
  },
  {
   "cell_type": "code",
   "execution_count": 38,
   "metadata": {},
   "outputs": [
    {
     "name": "stdout",
     "output_type": "stream",
     "text": [
      "['a', 'b']\n"
     ]
    }
   ],
   "source": [
    "\"\"\"\"variable_dos = \"texto dos\"\n",
    "my_string = \"thisStringisAwesome\"\n",
    "my_string.upper\n",
    "print(my_string.upper())\n",
    "print(variable_domy_string.\n",
    "\"\"\"\n",
    "S = 10\n",
    "my_string.lower()\n",
    "my_string.count(\"th\")\n",
    "my_string.replace(\"this\",\"alirio\")\n",
    "\n",
    "my_string = \"thisStringisAwesome\"\n",
    "my_string_dos = \"texto dos\"\n",
    "my_string + my_string_dos\n",
    "\"me\" in my_string\n",
    "# lista[]\n",
    "lista =  [\"a\",\"b\",1,1.8]\n",
    "\n",
    "# print(type(lista[0:2]))\n",
    "\n",
    "print(lista[0:2])\n"
   ]
  },
  {
   "cell_type": "code",
   "execution_count": 10,
   "metadata": {},
   "outputs": [
    {
     "name": "stdout",
     "output_type": "stream",
     "text": [
      "hola\n",
      "<class 'int'>\n",
      "<class 'float'>\n",
      "<class 'str'>\n"
     ]
    }
   ],
   "source": [
    "print(\"hola\")\n",
    "print(type(17))\n",
    "print(type(1.8))\n",
    "print(type(\"texto\"))"
   ]
  }
 ],
 "metadata": {
  "kernelspec": {
   "display_name": "Python 3",
   "language": "python",
   "name": "python3"
  },
  "language_info": {
   "codemirror_mode": {
    "name": "ipython",
    "version": 3
   },
   "file_extension": ".py",
   "mimetype": "text/x-python",
   "name": "python",
   "nbconvert_exporter": "python",
   "pygments_lexer": "ipython3",
   "version": "3.12.2"
  }
 },
 "nbformat": 4,
 "nbformat_minor": 2
}
