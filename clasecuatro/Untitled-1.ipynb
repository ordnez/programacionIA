{
 "cells": [
  {
   "cell_type": "markdown",
   "metadata": {},
   "source": [
    "clase python\n"
   ]
  },
  {
   "cell_type": "code",
   "execution_count": null,
   "metadata": {},
   "outputs": [
    {
     "name": "stdout",
     "output_type": "stream",
     "text": [
      "3\n"
     ]
    }
   ],
   "source": [
    "my_string = [\"1\", 2, 3, \"4\"]\n",
    "\n",
    "numero_3 = my_string[2]\n",
    "print(numero_3)\n",
    "\n"
   ]
  },
  {
   "cell_type": "code",
   "execution_count": 13,
   "metadata": {},
   "outputs": [
    {
     "name": "stdout",
     "output_type": "stream",
     "text": [
      "El número es par.\n",
      "El número es impar y es divisible entre 3.\n"
     ]
    }
   ],
   "source": [
    "# Solicita al usuario ingresar un número\n",
    "numero = int(input(\"Introduce un número: \"))\n",
    "\n",
    "# Verifica si el número es cero\n",
    "if numero == 0:\n",
    "    print(\"El número es 0.\")\n",
    "\n",
    "    # Verifica si el número es par\n",
    "elif numero % 2 == 0:\n",
    "    print(\"El número es par.\")\n",
    "elif numero % 2 == 1:\n",
    "    print(\"El número tiene r.\")\n",
    "\n",
    "    # Si el número es impar, verifica si es divisible entre 3\n",
    "if numero % 3 == 0:\n",
    "    print(\"El número es impar y es divisible entre 3.\")\n",
    "    \n",
    "else:\n",
    "    print(\"no cumple ninguna condiccion\")\n",
    "  \n",
    " \n"
   ]
  },
  {
   "cell_type": "code",
   "execution_count": 14,
   "metadata": {},
   "outputs": [
    {
     "name": "stdout",
     "output_type": "stream",
     "text": [
      "La suma de los elementos de la lista es: 18\n"
     ]
    }
   ],
   "source": [
    "suma = [3, 4, 5, 6]\n",
    "resultado = sum(suma)\n",
    "print(\"La suma de los elementos de la lista es:\", resultado)\n",
    "\n"
   ]
  }
 ],
 "metadata": {
  "kernelspec": {
   "display_name": "emv",
   "language": "python",
   "name": "python3"
  },
  "language_info": {
   "codemirror_mode": {
    "name": "ipython",
    "version": 3
   },
   "file_extension": ".py",
   "mimetype": "text/x-python",
   "name": "python",
   "nbconvert_exporter": "python",
   "pygments_lexer": "ipython3",
   "version": "3.12.2"
  }
 },
 "nbformat": 4,
 "nbformat_minor": 2
}
