{
 "cells": [
  {
   "cell_type": "markdown",
   "metadata": {},
   "source": [
    "clase python\n"
   ]
  },
  {
   "cell_type": "code",
   "execution_count": null,
   "metadata": {},
   "outputs": [
    {
     "name": "stdout",
     "output_type": "stream",
     "text": [
      "3\n"
     ]
    }
   ],
   "source": [
    "my_string = [\"1\", 2, 3, \"4\"]\n",
    "\n",
    "numero_3 = my_string[2]\n",
    "print(numero_3)\n",
    "\n"
   ]
  },
  {
   "cell_type": "code",
   "execution_count": 13,
   "metadata": {},
   "outputs": [
    {
     "name": "stdout",
     "output_type": "stream",
     "text": [
      "El número es par.\n",
      "El número es impar y es divisible entre 3.\n"
     ]
    }
   ],
   "source": [
    "# Solicita al usuario ingresar un número\n",
    "numero = int(input(\"Introduce un número: \"))\n",
    "\n",
    "# Verifica si el número es cero\n",
    "if numero == 0:\n",
    "    print(\"El número es 0.\")\n",
    "\n",
    "    # Verifica si el número es par\n",
    "elif numero % 2 == 0:\n",
    "    print(\"El número es par.\")\n",
    "elif numero % 2 == 1:\n",
    "    print(\"El número tiene r.\")\n",
    "\n",
    "    # Si el número es impar, verifica si es divisible entre 3\n",
    "if numero % 3 == 0:\n",
    "    print(\"El número es impar y es divisible entre 3.\")\n",
    "    \n",
    "else:\n",
    "    print(\"no cumple ninguna condiccion\")\n",
    "  \n",
    " \n"
   ]
  },
  {
   "cell_type": "code",
   "execution_count": 14,
   "metadata": {},
   "outputs": [
    {
     "name": "stdout",
     "output_type": "stream",
     "text": [
      "La suma de los elementos de la lista es: 18\n"
     ]
    }
   ],
   "source": [
    "suma = [3, 4, 5, 6]\n",
    "resultado = sum(suma)\n",
    "print(\"La suma de los elementos de la lista es:\", resultado)\n",
    "\n"
   ]
  },
  {
   "cell_type": "code",
   "execution_count": 7,
   "metadata": {},
   "outputs": [
    {
     "name": "stdout",
     "output_type": "stream",
     "text": [
      "Todavía no puedes conducir.\n"
     ]
    }
   ],
   "source": [
    "# ejemplo elif\n",
    "edad = int(input(\"Digite su edad en años: \"))\n",
    "\n",
    "if edad < 16:\n",
    "    print(\"Todavía no puedes conducir.\")\n",
    "elif 16 <= edad <= 18:\n",
    "    print(\"Puedes obtener el permiso para conducir B2 y C1.\")\n",
    "elif 18 < edad <= 70:\n",
    "    print(\"Puedes obtener la licencia clase B2.\")\n",
    "elif 70 < edad < 75:\n",
    "    print(\"Solo puedes renovar la licencia B2.\")\n",
    "else:\n",
    "    print(\"Ya no puedes conducir.\")\n"
   ]
  },
  {
   "cell_type": "code",
   "execution_count": 50,
   "metadata": {},
   "outputs": [
    {
     "name": "stdout",
     "output_type": "stream",
     "text": [
      "Número de veces que aparece la letra r en el texto 'me encanta programar': 3\n",
      "Veces que aparece 'R' en la cadena: 0 (minúsculas)\n",
      "Veces que aparece 'R' en la cadena: 3 (mayúsculas)\n"
     ]
    }
   ],
   "source": [
    "cadena = \"me encanta programar\"\n",
    "contador = 0\n",
    "\n",
    "for i in cadena:\n",
    "    if i == \"r\":\n",
    "        contador += 1\n",
    "\n",
    "print(f\"Número de veces que aparece la letra {i} en el texto 'me encanta programar':\",contador)\n",
    "\n",
    "def contar(cadena, letra):\n",
    "    contador_min = 0\n",
    "    contador_may = 0\n",
    "    for i in cadena:\n",
    "        if i.lower() == letra.lower():  # Convertir tanto la letra como el carácter a minúscula para comparar\n",
    "            if i.islower():  # Verificar si la letra original es minúscula\n",
    "                contador_min += 1\n",
    "            elif i.isupper():  # Verificar si la letra original es mayúscula\n",
    "                contador_may += 1\n",
    "    print(f\"Veces que aparece '{letra}' en la cadena: {contador_min} (minúsculas)\")\n",
    "    print(f\"Veces que aparece '{letra.upper()}' en la cadena: {contador_may} (mayúsculas)\")\n",
    "\n",
    "cadena = \"Me encanta PROGRAMAR\"\n",
    "letra = \"R\"\n",
    "contar(cadena, letra)\n",
    "\n"
   ]
  }
 ],
 "metadata": {
  "kernelspec": {
   "display_name": "emv",
   "language": "python",
   "name": "python3"
  },
  "language_info": {
   "codemirror_mode": {
    "name": "ipython",
    "version": 3
   },
   "file_extension": ".py",
   "mimetype": "text/x-python",
   "name": "python",
   "nbconvert_exporter": "python",
   "pygments_lexer": "ipython3",
   "version": "3.12.2"
  }
 },
 "nbformat": 4,
 "nbformat_minor": 2
}
